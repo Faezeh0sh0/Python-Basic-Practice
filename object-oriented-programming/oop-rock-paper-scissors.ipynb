{
 "cells": [
  {
   "cell_type": "code",
   "execution_count": 16,
   "metadata": {},
   "outputs": [],
   "source": [
    "import random\n",
    "\n",
    "choices = ['Rock','Scissors','Paper']\n",
    "\n",
    "class Game:\n",
    "\n",
    "    \n",
    "    def __init__(self, user_choice):\n",
    "        self.user_choice = self.validate_user_choice(user_choice)\n",
    "        self.computer_choice = random.choice(choices)\n",
    "\n",
    "    def validate_user_choice(self, user_choice):\n",
    "        for choice in choices:\n",
    "            if user_choice in choices:\n",
    "                return choice\n",
    "            else:\n",
    "                raise ValueError(\"Input isn't Valid\")\n",
    "                \n",
    "        \n",
    "    \n",
    "    def play(self):\n",
    "\n",
    "        output = f\"\\nUser Choice:{self.user_choice}\\nComputer Choice:{self.computer_choice}\"\n",
    "\n",
    "        if self.user_choice == self.computer_choice:\n",
    "            return f\"It's a tie.{output}\"\n",
    "\n",
    "        win_combination = [('Scissors', 'Paper'),('Rock', 'Scissors'),('Paper','Rock')]\n",
    "\n",
    "        for win_comb in win_combination:\n",
    "            if (self.user_choice == win_comb[0]) and (self.computer_choice[1]):\n",
    "                return f\"Congrats! You are a winner!{output}\"\n",
    "        \n",
    "        return f\"Game Over.{output}\"\n",
    "        "
   ]
  },
  {
   "cell_type": "code",
   "execution_count": 21,
   "metadata": {},
   "outputs": [],
   "source": [
    "test4 =  Game('Rock')"
   ]
  },
  {
   "cell_type": "code",
   "execution_count": 22,
   "metadata": {},
   "outputs": [
    {
     "name": "stdout",
     "output_type": "stream",
     "text": [
      "Congrats! You are a winner!\n",
      "User Choice:Rock\n",
      "Computer Choice:Paper\n"
     ]
    }
   ],
   "source": [
    "print(test4.play())"
   ]
  },
  {
   "cell_type": "code",
   "execution_count": null,
   "metadata": {},
   "outputs": [],
   "source": []
  }
 ],
 "metadata": {
  "kernelspec": {
   "display_name": "tamrin",
   "language": "python",
   "name": "python3"
  },
  "language_info": {
   "codemirror_mode": {
    "name": "ipython",
    "version": 3
   },
   "file_extension": ".py",
   "mimetype": "text/x-python",
   "name": "python",
   "nbconvert_exporter": "python",
   "pygments_lexer": "ipython3",
   "version": "3.10.14"
  }
 },
 "nbformat": 4,
 "nbformat_minor": 2
}
