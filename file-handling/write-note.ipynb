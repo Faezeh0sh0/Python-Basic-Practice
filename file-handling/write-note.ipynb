{
 "cells": [
  {
   "cell_type": "code",
   "execution_count": 2,
   "metadata": {},
   "outputs": [],
   "source": [
    "with open(\"note.txt\", \"a\") as notes:\n",
    "    notes.write(\"I love Python\\n\")"
   ]
  },
  {
   "cell_type": "code",
   "execution_count": 3,
   "metadata": {},
   "outputs": [],
   "source": [
    "with open(\"note.txt\", \"a\") as notes:\n",
    "    lines = [\n",
    "        \"day4\",\n",
    "        \"Python is a programming language\\n\",\n",
    "        \"Bye\"\n",
    "    ]\n",
    "    notes.writelines(lines)"
   ]
  }
 ],
 "metadata": {
  "kernelspec": {
   "display_name": "tamrin",
   "language": "python",
   "name": "python3"
  },
  "language_info": {
   "codemirror_mode": {
    "name": "ipython",
    "version": 3
   },
   "file_extension": ".py",
   "mimetype": "text/x-python",
   "name": "python",
   "nbconvert_exporter": "python",
   "pygments_lexer": "ipython3",
   "version": "3.10.14"
  }
 },
 "nbformat": 4,
 "nbformat_minor": 2
}
