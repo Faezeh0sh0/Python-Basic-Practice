{
 "cells": [
  {
   "cell_type": "code",
   "execution_count": 3,
   "metadata": {},
   "outputs": [
    {
     "name": "stdout",
     "output_type": "stream",
     "text": [
      "Focus on your strengths.\n",
      "Focus on solving problems.\n",
      "Focus on the future instead of reviewing hurts from the past.\n",
      "Focus on your life instead of your illness.\n"
     ]
    }
   ],
   "source": [
    "with open('file1.txt', 'r') as file_object:\n",
    "    content = file_object.read()\n",
    "    print(content)"
   ]
  },
  {
   "cell_type": "code",
   "execution_count": 4,
   "metadata": {},
   "outputs": [],
   "source": [
    "def count_statemment(string):\n",
    "    counter_statemment = 0    \n",
    "    for i in content:\n",
    "        if \".\" in i:\n",
    "                counter_statemment+=1\n",
    "    print(counter_statemment)\n"
   ]
  },
  {
   "cell_type": "code",
   "execution_count": 5,
   "metadata": {},
   "outputs": [
    {
     "name": "stdout",
     "output_type": "stream",
     "text": [
      "4\n"
     ]
    }
   ],
   "source": [
    "count_statemment(content)"
   ]
  },
  {
   "cell_type": "code",
   "execution_count": 6,
   "metadata": {},
   "outputs": [],
   "source": [
    "def count_char(string):\n",
    "    result_dict = {}\n",
    "    for char in set(string):\n",
    "        result_dict[char] = string.count(char)\n",
    "    return sorted(result_dict.items())"
   ]
  },
  {
   "cell_type": "code",
   "execution_count": 7,
   "metadata": {},
   "outputs": [
    {
     "data": {
      "text/plain": [
       "[('\\n', 3),\n",
       " (' ', 23),\n",
       " ('.', 4),\n",
       " ('F', 4),\n",
       " ('a', 3),\n",
       " ('b', 1),\n",
       " ('c', 4),\n",
       " ('d', 2),\n",
       " ('e', 11),\n",
       " ('f', 5),\n",
       " ('g', 3),\n",
       " ('h', 4),\n",
       " ('i', 7),\n",
       " ('l', 5),\n",
       " ('m', 2),\n",
       " ('n', 10),\n",
       " ('o', 16),\n",
       " ('p', 2),\n",
       " ('r', 9),\n",
       " ('s', 14),\n",
       " ('t', 9),\n",
       " ('u', 10),\n",
       " ('v', 2),\n",
       " ('w', 1),\n",
       " ('y', 3)]"
      ]
     },
     "execution_count": 7,
     "metadata": {},
     "output_type": "execute_result"
    }
   ],
   "source": [
    "count_char(content)"
   ]
  },
  {
   "cell_type": "code",
   "execution_count": 8,
   "metadata": {},
   "outputs": [],
   "source": [
    "content_lower = content.lower()"
   ]
  },
  {
   "cell_type": "code",
   "execution_count": 9,
   "metadata": {},
   "outputs": [
    {
     "data": {
      "text/plain": [
       "[('\\n', 3),\n",
       " (' ', 23),\n",
       " ('.', 4),\n",
       " ('a', 3),\n",
       " ('b', 1),\n",
       " ('c', 4),\n",
       " ('d', 2),\n",
       " ('e', 11),\n",
       " ('f', 9),\n",
       " ('g', 3),\n",
       " ('h', 4),\n",
       " ('i', 7),\n",
       " ('l', 5),\n",
       " ('m', 2),\n",
       " ('n', 10),\n",
       " ('o', 16),\n",
       " ('p', 2),\n",
       " ('r', 9),\n",
       " ('s', 14),\n",
       " ('t', 9),\n",
       " ('u', 10),\n",
       " ('v', 2),\n",
       " ('w', 1),\n",
       " ('y', 3)]"
      ]
     },
     "execution_count": 9,
     "metadata": {},
     "output_type": "execute_result"
    }
   ],
   "source": [
    "count_char(content_lower)"
   ]
  },
  {
   "cell_type": "code",
   "execution_count": 10,
   "metadata": {},
   "outputs": [
    {
     "data": {
      "text/plain": [
       "['Focus',\n",
       " 'on',\n",
       " 'your',\n",
       " 'strengths.',\n",
       " 'Focus',\n",
       " 'on',\n",
       " 'solving',\n",
       " 'problems.',\n",
       " 'Focus',\n",
       " 'on',\n",
       " 'the',\n",
       " 'future',\n",
       " 'instead',\n",
       " 'of',\n",
       " 'reviewing',\n",
       " 'hurts',\n",
       " 'from',\n",
       " 'the',\n",
       " 'past.',\n",
       " 'Focus',\n",
       " 'on',\n",
       " 'your',\n",
       " 'life',\n",
       " 'instead',\n",
       " 'of',\n",
       " 'your',\n",
       " 'illness.']"
      ]
     },
     "execution_count": 10,
     "metadata": {},
     "output_type": "execute_result"
    }
   ],
   "source": [
    "content.split()"
   ]
  },
  {
   "cell_type": "code",
   "execution_count": 11,
   "metadata": {},
   "outputs": [],
   "source": [
    "punctuation = [\".\",\"!\",\"-\",\":\",\"?\",\"'\"]"
   ]
  },
  {
   "cell_type": "code",
   "execution_count": 12,
   "metadata": {},
   "outputs": [
    {
     "data": {
      "text/plain": [
       "131"
      ]
     },
     "execution_count": 12,
     "metadata": {},
     "output_type": "execute_result"
    }
   ],
   "source": [
    "#character_count_excluding_spaces\n",
    "len(content.replace(\" \",\"\").replace(\"\\n\",\"\"))"
   ]
  },
  {
   "cell_type": "code",
   "execution_count": 13,
   "metadata": {},
   "outputs": [
    {
     "data": {
      "text/plain": [
       "157"
      ]
     },
     "execution_count": 13,
     "metadata": {},
     "output_type": "execute_result"
    }
   ],
   "source": [
    "len(content)"
   ]
  },
  {
   "cell_type": "code",
   "execution_count": 14,
   "metadata": {},
   "outputs": [
    {
     "data": {
      "text/plain": [
       "27"
      ]
     },
     "execution_count": 14,
     "metadata": {},
     "output_type": "execute_result"
    }
   ],
   "source": [
    "#word_count\n",
    "len(content.split())"
   ]
  },
  {
   "cell_type": "code",
   "execution_count": 15,
   "metadata": {},
   "outputs": [
    {
     "data": {
      "text/plain": [
       "4"
      ]
     },
     "execution_count": 15,
     "metadata": {},
     "output_type": "execute_result"
    }
   ],
   "source": [
    "content.count(\"\\n\")+1"
   ]
  },
  {
   "cell_type": "code",
   "execution_count": 16,
   "metadata": {},
   "outputs": [],
   "source": [
    "#remove_whiteSpace\n",
    "working_char = list(content.replace(\" \",\"\").replace(\"\\n\",\"\"))\n",
    "strip = content.replace(\" \",\"\").replace(\"\\n\",\"\")"
   ]
  },
  {
   "cell_type": "code",
   "execution_count": 17,
   "metadata": {},
   "outputs": [
    {
     "name": "stdout",
     "output_type": "stream",
     "text": [
      "FocusonyourstrengthsFocusonsolvingproblemsFocusonthefutureinsteadofreviewinghurtsfromthepastFocusonyourlifeinsteadofyourillness\n",
      "127\n"
     ]
    }
   ],
   "source": [
    "#remove_punctuations\n",
    "#count_letter\n",
    "for char in working_char:\n",
    "    if punctuation.count(char) >= 1:\n",
    "        strip = strip.replace(char,\"\")\n",
    "print(strip)\n",
    "print(len(strip))\n"
   ]
  },
  {
   "cell_type": "code",
   "execution_count": 20,
   "metadata": {},
   "outputs": [
    {
     "name": "stdout",
     "output_type": "stream",
     "text": [
      "Focus on your strengths.\n",
      "[4]\n",
      "Focus on solving problems.\n",
      "[4, 4]\n",
      "Focus on the future instead of reviewing hurts from the past.\n",
      "[4, 4, 11]\n",
      "Focus on your life instead of your illness.[4, 4, 11, 8]\n"
     ]
    }
   ],
   "source": [
    "sentence_word = []\n",
    "with open('file1.txt','r') as file:\n",
    "    line = file.readline()\n",
    "    while line:\n",
    "        print(line, end='')\n",
    "        sentence_word.append(len(line.split()))\n",
    "        print(sentence_word)\n",
    "        line = file.readline()"
   ]
  },
  {
   "cell_type": "code",
   "execution_count": 23,
   "metadata": {},
   "outputs": [
    {
     "data": {
      "text/plain": [
       "6"
      ]
     },
     "execution_count": 23,
     "metadata": {},
     "output_type": "execute_result"
    }
   ],
   "source": [
    "#average words per sentence\n",
    "int(sum(sentence_word)/len(sentence_word))"
   ]
  }
 ],
 "metadata": {
  "kernelspec": {
   "display_name": "tamrin",
   "language": "python",
   "name": "python3"
  },
  "language_info": {
   "codemirror_mode": {
    "name": "ipython",
    "version": 3
   },
   "file_extension": ".py",
   "mimetype": "text/x-python",
   "name": "python",
   "nbconvert_exporter": "python",
   "pygments_lexer": "ipython3",
   "version": "3.10.14"
  }
 },
 "nbformat": 4,
 "nbformat_minor": 2
}
