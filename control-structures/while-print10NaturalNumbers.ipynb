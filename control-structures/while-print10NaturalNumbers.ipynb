{
 "cells": [
  {
   "cell_type": "code",
   "execution_count": 1,
   "id": "34cd6c1f-1e66-4545-9aca-45529e2083c1",
   "metadata": {},
   "outputs": [
    {
     "name": "stdout",
     "output_type": "stream",
     "text": [
      "1\n",
      "2\n",
      "3\n",
      "4\n",
      "5\n",
      "6\n",
      "7\n",
      "8\n",
      "9\n",
      "10\n"
     ]
    }
   ],
   "source": [
    "number = 1\n",
    "while number<11:\n",
    "    print(number)\n",
    "    number+=1"
   ]
  },
  {
   "cell_type": "code",
   "execution_count": 2,
   "id": "661957c0",
   "metadata": {},
   "outputs": [
    {
     "name": "stdout",
     "output_type": "stream",
     "text": [
      "51\n",
      "52\n",
      "53\n",
      "54\n",
      "55\n",
      "56\n",
      "57\n",
      "58\n",
      "59\n",
      "60\n"
     ]
    }
   ],
   "source": [
    "number = int(input(\"Enter a Natural number:\"))\n",
    "counter = number + 10\n",
    "while number<counter:\n",
    "    print(number)\n",
    "    number +=1\n"
   ]
  },
  {
   "cell_type": "code",
   "execution_count": 6,
   "id": "47850e09",
   "metadata": {},
   "outputs": [
    {
     "name": "stdout",
     "output_type": "stream",
     "text": [
      "2\n",
      "3\n",
      "4\n",
      "5\n",
      "6\n",
      "7\n",
      "8\n",
      "9\n",
      "10\n",
      "11\n"
     ]
    }
   ],
   "source": [
    "number= - 1\n",
    "while number<0:\n",
    "    number = int(input(\"Enter a Natural number:\"))\n",
    "if number > 0:\n",
    "    counter = number + 10\n",
    "    while number<counter:\n",
    "        print(number)\n",
    "        number +=1\n"
   ]
  }
 ],
 "metadata": {
  "kernelspec": {
   "display_name": "Python 3 (ipykernel)",
   "language": "python",
   "name": "python3"
  },
  "language_info": {
   "codemirror_mode": {
    "name": "ipython",
    "version": 3
   },
   "file_extension": ".py",
   "mimetype": "text/x-python",
   "name": "python",
   "nbconvert_exporter": "python",
   "pygments_lexer": "ipython3",
   "version": "3.10.14"
  }
 },
 "nbformat": 4,
 "nbformat_minor": 5
}
